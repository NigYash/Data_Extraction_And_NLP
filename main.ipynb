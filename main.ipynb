{
 "cells": [
  {
   "cell_type": "code",
   "execution_count": 1,
   "metadata": {},
   "outputs": [],
   "source": [
    "import string\n",
    "import re \n",
    "import os \n",
    "import pandas as pd\n",
    "from nltk.tokenize import RegexpTokenizer , sent_tokenize\n",
    "from bs4 import BeautifulSoup\n",
    "import requests\n",
    "from nltk.tokenize import word_tokenize\n",
    "from nltk.corpus import stopwords"
   ]
  },
  {
   "cell_type": "code",
   "execution_count": 2,
   "metadata": {},
   "outputs": [
    {
     "name": "stderr",
     "output_type": "stream",
     "text": [
      "[nltk_data] Downloading package punkt to\n",
      "[nltk_data]     C:\\Users\\Dell\\AppData\\Roaming\\nltk_data...\n",
      "[nltk_data]   Package punkt is already up-to-date!\n",
      "[nltk_data] Downloading package stopwords to\n",
      "[nltk_data]     C:\\Users\\Dell\\AppData\\Roaming\\nltk_data...\n",
      "[nltk_data]   Package stopwords is already up-to-date!\n"
     ]
    },
    {
     "data": {
      "text/plain": [
       "True"
      ]
     },
     "execution_count": 2,
     "metadata": {},
     "output_type": "execute_result"
    }
   ],
   "source": [
    "import nltk\n",
    "nltk.download('punkt')\n",
    "nltk.download('stopwords')"
   ]
  },
  {
   "cell_type": "code",
   "execution_count": null,
   "metadata": {},
   "outputs": [],
   "source": [
    "input = pd.read_excel(\"Input.xlsx\")\n",
    "input\n",
    "for index, row in input.iterrows():\n",
    "  url = row['URL']\n",
    "  url_id = row['URL_ID']#\n",
    "\n",
    "  page=requests.get(url )  \n",
    "  soup = BeautifulSoup(page.text , 'html.parser')\n",
    "  #find title\n",
    "  try:\n",
    "     title = soup.find('h1').get_text()\n",
    "  except:\n",
    "    print(\"can't get title of {}\".format(url))\n",
    "  #find text\n",
    "  content = \"\"\n",
    "  try:\n",
    "    # Select all <p> elements except the first 9 and last 2\n",
    "    for p in soup.find_all('p')[16:-3]:\n",
    "        content += p.get_text()\n",
    "  except:\n",
    "    print(\"Can't get text of {}\".format(url))\n",
    "  lines = (line.strip() for line in content.splitlines())\n",
    "  chunks = (phrase.strip() for line in lines for phrase in line.split(\"  \"))\n",
    "  text = '\\n'.join(chunk for chunk in chunks if chunk)\n",
    "  #print(title)\n",
    "  #print(text)\n",
    "  #print('--'*50)\n",
    "  \n",
    "  ###write title and text to the file\n",
    "  ###The below code is commented so that it does not overwrite again and again\n",
    "\n",
    "  #folder_name = \"ExtractedTitleText\"\n",
    "  #if not os.path.exists(folder_name):\n",
    "   # os.makedirs(folder_name)\n",
    "\n",
    "  #file_name = os.path.join(folder_name, 'TitleText' + str(url_id) + '.txt')\n",
    "  #with open(file_name, 'w', encoding='utf-8') as file:\n",
    "    #file.write(title + '\\n' + content)\n"
   ]
  },
  {
   "cell_type": "code",
   "execution_count": 3,
   "metadata": {},
   "outputs": [],
   "source": [
    "text_dir = r\"C:\\Users\\Dell\\Desktop\\BlackCoffer\\ExtractedTitleText\"\n",
    "stopwords_dir = r\"C:\\Users\\Dell\\Desktop\\BlackCoffer\\StopWords\"\n",
    "sentiment_dir = r\"C:\\Users\\Dell\\Desktop\\BlackCoffer\\MasterDictionary\""
   ]
  },
  {
   "cell_type": "code",
   "execution_count": 4,
   "metadata": {},
   "outputs": [],
   "source": [
    "# Initialize an empty set to store stopwords\n",
    "stopwords = set()\n",
    "\n",
    "# Loop through all text files in the stopwords directory\n",
    "for filename in os.listdir(stopwords_dir):\n",
    "    if filename.endswith(\".txt\"):\n",
    "        filepath = os.path.join(stopwords_dir, filename)\n",
    "        # Open the file and read each line\n",
    "        with open(filepath, \"r\", encoding=\"ISO-8859-1\") as file:\n",
    "            # Read each line and split it into words\n",
    "            for line in file:\n",
    "                words = line.split()\n",
    "                # Add each word to the stopwords set\n",
    "                stopwords.update(words)\n",
    "\n",
    "# Now, stopwords variable contains all the words from the text files\n",
    "#print(stopwords)"
   ]
  },
  {
   "cell_type": "code",
   "execution_count": 5,
   "metadata": {},
   "outputs": [],
   "source": [
    "docs = []\n",
    "for text_file in os.listdir(text_dir):\n",
    "  with open(os.path.join(text_dir,text_file),'r',encoding='utf-8') as f:\n",
    "    text = f.read()\n",
    "#tokenize the given text file\n",
    "    words = word_tokenize(text)\n",
    "# Define a translation table to remove all punctuation marks\n",
    "    translation_table = str.maketrans( '','', string.punctuation)\n",
    "# remove the stop words from the tokens\n",
    "    filtered_text = [word.translate(translation_table) for word in words if word.translate(translation_table).lower() not in stopwords]\n",
    "# add each filtered tokens of each file into a list\n",
    "    docs.append(filtered_text)\n"
   ]
  },
  {
   "cell_type": "code",
   "execution_count": 6,
   "metadata": {},
   "outputs": [
    {
     "data": {
      "text/plain": [
       "1018"
      ]
     },
     "execution_count": 6,
     "metadata": {},
     "output_type": "execute_result"
    }
   ],
   "source": [
    "len(words)\n"
   ]
  },
  {
   "cell_type": "code",
   "execution_count": 7,
   "metadata": {},
   "outputs": [],
   "source": [
    "# store positive, Negative words from the directory\n",
    "positive=set()\n",
    "negative=set()\n",
    "\n",
    "for files in os.listdir(sentiment_dir):\n",
    "  if files =='negative-words.txt':\n",
    "    with open(os.path.join(sentiment_dir,files),'r',encoding='ISO-8859-1') as f:\n",
    "      negative.update(f.read().splitlines())\n",
    "  else:\n",
    "    with open(os.path.join(sentiment_dir,files),'r',encoding='ISO-8859-1') as f:\n",
    "      positive.update(f.read().splitlines())"
   ]
  },
  {
   "cell_type": "code",
   "execution_count": 8,
   "metadata": {},
   "outputs": [
    {
     "data": {
      "text/plain": [
       "2006"
      ]
     },
     "execution_count": 8,
     "metadata": {},
     "output_type": "execute_result"
    }
   ],
   "source": [
    "len(positive)"
   ]
  },
  {
   "cell_type": "code",
   "execution_count": 9,
   "metadata": {},
   "outputs": [
    {
     "data": {
      "text/plain": [
       "4783"
      ]
     },
     "execution_count": 9,
     "metadata": {},
     "output_type": "execute_result"
    }
   ],
   "source": [
    "len(negative)"
   ]
  },
  {
   "cell_type": "code",
   "execution_count": 10,
   "metadata": {},
   "outputs": [],
   "source": [
    "positive_words = []\n",
    "positive_score =[]\n",
    "for i in range(len(docs)):\n",
    "    positive_words.append([word for word in docs[i] if word.lower() in positive])\n",
    "    positive_score.append(len(positive_words[i]))\n"
   ]
  },
  {
   "cell_type": "code",
   "execution_count": null,
   "metadata": {},
   "outputs": [],
   "source": [
    "positive_score"
   ]
  },
  {
   "cell_type": "code",
   "execution_count": null,
   "metadata": {},
   "outputs": [],
   "source": [
    "positive_words"
   ]
  },
  {
   "cell_type": "code",
   "execution_count": 11,
   "metadata": {},
   "outputs": [],
   "source": [
    "negative_words = []\n",
    "negative_score =[]\n",
    "for i in range(len(docs)):\n",
    "    negative_words.append([word for word in docs[i] if word.lower() in negative])\n",
    "    negative_score.append(len(negative_words[i]))"
   ]
  },
  {
   "cell_type": "code",
   "execution_count": null,
   "metadata": {},
   "outputs": [],
   "source": [
    "negative_score"
   ]
  },
  {
   "cell_type": "code",
   "execution_count": 12,
   "metadata": {},
   "outputs": [],
   "source": [
    "polarity_score =[]\n",
    "for i in range(len(docs)):\n",
    "    polarity_score.append((positive_score[i] - negative_score[i]) / ((positive_score[i] + negative_score[i]) + 0.000001))"
   ]
  },
  {
   "cell_type": "code",
   "execution_count": null,
   "metadata": {},
   "outputs": [],
   "source": [
    "polarity_score"
   ]
  },
  {
   "cell_type": "code",
   "execution_count": 13,
   "metadata": {},
   "outputs": [],
   "source": [
    "subjectivity_score = []\n",
    "for i in range (len(docs)):\n",
    "    subjectivity_score.append((positive_score[i] + negative_score[i]) / ((len(docs[i])) + 0.000001))\n"
   ]
  },
  {
   "cell_type": "code",
   "execution_count": null,
   "metadata": {},
   "outputs": [],
   "source": [
    "subjectivity_score"
   ]
  },
  {
   "cell_type": "code",
   "execution_count": 11,
   "metadata": {},
   "outputs": [],
   "source": [
    "avg_sentence_length = []\n",
    "Percentage_of_Complex_words  =  []\n",
    "Fog_Index = []\n",
    "complex_word_count =  []\n",
    "avg_syllable_word_count =[]\n",
    "\n",
    "\n",
    "stopwords = set()\n",
    "def calculation(file):\n",
    "  with open(os.path.join(text_dir, file),'r', encoding='utf-8') as f:\n",
    "    text = f.read()\n",
    "# remove punctuations \n",
    "    text = re.sub(r'[^\\w\\s.]','',text)\n",
    "# split the given text file into sentences\n",
    "    sentences = text.split('.')\n",
    "# total number of sentences in a file\n",
    "    num_sentences = len(sentences)\n",
    "# total words in the file\n",
    "    words = [word  for word in text.split() if word.lower() not in stopwords ]\n",
    "    num_words = len(words)\n",
    "\n",
    "    complex_words = []\n",
    "    for word in words:\n",
    "       vowels = 'aeiou'\n",
    "       syllable_count_word = sum( 1 for letter in word if letter.lower() in vowels)\n",
    "       if syllable_count_word > 2:\n",
    "         complex_words.append(word)\n",
    "\n",
    "\n",
    "    syllable_count = 0\n",
    "    syllable_words =[]\n",
    "    for word in words:\n",
    "        if word.endswith('es'):\n",
    "           word = word[:-2]\n",
    "        elif word.endswith('ed'):\n",
    "           word = word[:-2]\n",
    "        vowels = 'aeiou'\n",
    "        syllable_count_word = sum( 1 for letter in word if letter.lower() in vowels)\n",
    "        if syllable_count_word >= 1:\n",
    "           syllable_words.append(word)\n",
    "           syllable_count += syllable_count_word\n",
    "\n",
    "\n",
    "    avg_sentence_len = num_words / num_sentences\n",
    "    avg_syllable_word_count = syllable_count / len(syllable_words)\n",
    "    Percent_Complex_words  =  len(complex_words) / num_words\n",
    "    Fog_Index = 0.4 * (avg_sentence_len + Percent_Complex_words)\n",
    "\n",
    "    return avg_sentence_len, Percent_Complex_words, Fog_Index, len(complex_words),avg_syllable_word_count\n",
    "  \n",
    "\n",
    "\n",
    "# iterate through each file or doc\n",
    "for file in os.listdir(text_dir):\n",
    "  x,y,z,a,b = calculation(file)\n",
    "  avg_sentence_length.append(x)\n",
    "  Percentage_of_Complex_words.append(y)\n",
    "  Fog_Index.append(z)\n",
    "  complex_word_count.append(a)\n",
    "  avg_syllable_word_count.append(b)"
   ]
  },
  {
   "cell_type": "code",
   "execution_count": 12,
   "metadata": {},
   "outputs": [],
   "source": [
    "# Word Count and Average Word Length Sum of the total number of characters in each word/Total number of words\n",
    "# We count the total cleaned words present in the text by \n",
    "# removing the stop words (using stopwords class of nltk package).\n",
    "# removing any punctuations like ? ! , . from the word before counting.\n",
    "\n",
    "def cleaned_words(file):\n",
    "  with open(os.path.join(text_dir,file), 'r',encoding='utf-8') as f:\n",
    "    text = f.read()\n",
    "    text = re.sub(r'[^\\w\\s]', '' , text)\n",
    "    words = [word  for word in text.split() if word.lower() not in stopwords]\n",
    "    length = sum(len(word) for word in words)\n",
    "    average_word_length = length / len(words)\n",
    "  return len(words),average_word_length\n",
    "\n",
    "word_count = []\n",
    "average_word_length = []\n",
    "for file in os.listdir(text_dir):\n",
    "  x, y = cleaned_words(file)\n",
    "  word_count.append(x)\n",
    "  average_word_length.append(y)\n",
    "\n",
    "\n",
    "# To calculate Personal Pronouns mentioned in the text, we use regex to find \n",
    "# the counts of the words - “I,” “we,” “my,” “ours,” and “us”. Special care is taken\n",
    "#  so that the country name US is not included in the list.\n",
    "def count_personal_pronouns(file):\n",
    "  with open(os.path.join(text_dir,file), 'r',encoding='utf-8') as f:\n",
    "    text = f.read()\n",
    "    personal_pronouns = [\"I\", \"we\", \"my\", \"ours\", \"us\"]\n",
    "    count = 0\n",
    "    for pronoun in personal_pronouns:\n",
    "      count += len(re.findall(r\"\\b\" + pronoun + r\"\\b\", text)) # \\b is used to match word boundaries\n",
    "  return count\n",
    "\n",
    "personalpro_count = []\n",
    "for file in os.listdir(text_dir):\n",
    "  x = count_personal_pronouns(file)\n",
    "  personalpro_count.append(x)"
   ]
  },
  {
   "cell_type": "code",
   "execution_count": null,
   "metadata": {},
   "outputs": [],
   "source": [
    "output_df = pd.read_excel('Output Data Structure.xlsx')\n",
    "\n",
    "# These are the required parameters \n",
    "variables = [positive_score,\n",
    "            negative_score,\n",
    "            polarity_score,\n",
    "            subjectivity_score,\n",
    "            avg_sentence_length,\n",
    "            Percentage_of_Complex_words,\n",
    "            Fog_Index,\n",
    "            avg_sentence_length,\n",
    "            complex_word_count,\n",
    "            word_count,\n",
    "            avg_syllable_word_count,\n",
    "            personalpro_count,\n",
    "            average_word_length]\n",
    "\n",
    "# write the values to the dataframe\n",
    "for i, var in enumerate(variables):\n",
    "  output_df.iloc[:,i+2] = var\n",
    "\n",
    "#now save the dataframe to the disk\n",
    "output_df.to_csv('Output_Data.csv')"
   ]
  },
  {
   "cell_type": "code",
   "execution_count": null,
   "metadata": {},
   "outputs": [],
   "source": []
  }
 ],
 "metadata": {
  "kernelspec": {
   "display_name": "Python 3",
   "language": "python",
   "name": "python3"
  },
  "language_info": {
   "codemirror_mode": {
    "name": "ipython",
    "version": 3
   },
   "file_extension": ".py",
   "mimetype": "text/x-python",
   "name": "python",
   "nbconvert_exporter": "python",
   "pygments_lexer": "ipython3",
   "version": "3.9.10"
  }
 },
 "nbformat": 4,
 "nbformat_minor": 2
}
